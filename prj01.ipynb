{
 "cells": [
  {
   "cell_type": "markdown",
   "id": "f9f03d55-7e2f-455e-9527-7e81a75fbece",
   "metadata": {},
   "source": [
    "# Preamble:\n",
    "Title: Goals Per Season by Top Scorer Since 1888\n",
    "\n",
    "Author: Antonio Lopez\n",
    "\n",
    "Email: alope151 at msudenver.edu\n",
    "\n",
    "Last Update: 2021-09-27"
   ]
  },
  {
   "cell_type": "markdown",
   "id": "9a656622-ae7c-48be-8cfe-6727bfa79bb7",
   "metadata": {},
   "source": [
    "# Introduction:\n",
    "This project uses data scraping techinques with the Beautiful Soup 4 library to collect data from football (soccer) stats tracker https://www.worldfootball.net/top_scorer/eng-premier-league/. The purpose of the project is to produce a statistical analysis report of the number of goals scored each season by the top scorer of the English Premier League."
   ]
  },
  {
   "cell_type": "markdown",
   "id": "a248ca19-e9cc-4d7c-bd72-99fb59d197b2",
   "metadata": {},
   "source": [
    "# Dataset\n",
    "Web scraping was used to collect the data from the World Football website. Analysing a league's top goal scorer is a good way to understand the relative competitiveness of a league for any particular season. As the disparity in talent gets smaller, more consistent numbers are seen as well as multiple players achieving the top scorer accomplishment. In order to produce consistent data, only one player was counted as top scorer every season to not create abnormalities in the data.\n",
    "\n",
    "Once the data is collected and cleaned up, it is output to a json fail in this format:  \n",
    "[  \n",
    "    {\"Season\": \"2020/2021\", \"Player\": \"Harry Kane\", \"Team\": \"Tottenham Hotspur\", \"Goals\": \"23\"},  \n",
    "    {\"Season\": \"2019/2020\", \"Player\": \"Jamie Vardy\", \"Team\": \"Leicester City\", \"Goals\": \"23\"},  \n",
    "    etc...  \n",
    "]"
   ]
  },
  {
   "cell_type": "code",
   "execution_count": 2,
   "id": "dc700217-9d4e-45f2-9bec-25168c93d646",
   "metadata": {},
   "outputs": [],
   "source": [
    "# CS390Z - Introduction to Data Minining - Fall 2021\n",
    "# Instructor: Thyago Mota\n",
    "# Author: Antonio Lopez\n",
    "# Description: Data Collection\n",
    "\n",
    "from bs4 import BeautifulSoup\n",
    "import requests\n",
    "import json\n",
    "\n",
    "# definitions/parameters\n",
    "DATA_FOLDER = './data/'\n",
    "DATASET_NAME = 'goal_count.json'\n",
    "BASE_URL = 'https://www.worldfootball.net/top_scorer/eng-premier-league/'\n",
    "HEADERS = {\"User-Agent\": \"Mozilla/5.0 (X11; CrOS x86_64 12871.102.0) AppleWebKit/537.36 (KHTML, like Gecko) Chrome/81.0.4044.141 Safari/537.36\"}\n",
    "\n",
    "data = []\n",
    "elements = []\n",
    "\n",
    "# Data collection\n",
    "if __name__ == \"__main__\":\n",
    "\n",
    "  result = requests.get(BASE_URL, headers=HEADERS)\n",
    "  if result.status_code == 200:\n",
    "    soup = BeautifulSoup(result.content, 'html.parser')\n",
    "    divs = soup.find_all('div', class_='data')\n",
    "    for div in divs:\n",
    "        rows = div.find_all('tr')\n",
    "        for row in rows:\n",
    "            for element in row:\n",
    "                element = element.get_text()\n",
    "                element = element.replace('\\n', '')\n",
    "                if element != '':\n",
    "                    elements.append(element)\n",
    "            if len(elements) == 4 and elements[0] != 'Season':\n",
    "                data.append({'Season': elements[0], 'Player': elements[1], 'Team': elements[2],'Goals': elements[3]})\n",
    "            elements.clear()\n",
    "\n",
    "# Dumps data to json file\n",
    "with open(DATA_FOLDER + DATASET_NAME, 'wt') as json_file:\n",
    "  json.dump(data, json_file)\n",
    "\n",
    "# keep for testing output\n",
    "# print(data)"
   ]
  },
  {
   "cell_type": "markdown",
   "id": "fc8b1318-b16f-4cb0-942e-baf2fe8c331f",
   "metadata": {},
   "source": [
    "# Summary Statistics"
   ]
  },
  {
   "cell_type": "code",
   "execution_count": 4,
   "id": "e1e71388-d3a5-4985-8301-8bbc6cb60a71",
   "metadata": {},
   "outputs": [
    {
     "name": "stdout",
     "output_type": "stream",
     "text": [
      "*** Summary Statistics (Goals per Season) ***\n",
      "Seasons: 122\n",
      "GPS range: [18,60]\n",
      "GPS mean: 28.99\n",
      "GPS median: 28.00\n",
      "GPS std: 6.83\n"
     ]
    }
   ],
   "source": [
    "# CS390Z - Introduction to Data Minining - Fall 2021\n",
    "# Instructor: Thyago Mota\n",
    "# Author: Antonio Lopez\n",
    "# Description: Summary Statistics\n",
    "\n",
    "import json\n",
    "import numpy as np\n",
    "\n",
    "# definitions/parameters\n",
    "DATA_FOLDER = './data/'\n",
    "DATASET_NAME = 'goal_count.json'\n",
    "\n",
    "\n",
    "with open(DATA_FOLDER + DATASET_NAME, 'rt') as json_file:\n",
    "  seasons = json.load(json_file)\n",
    "\n",
    "goals = []\n",
    "for season in seasons:\n",
    "  goals.append(season['Goals'])\n",
    "goals_array = np.array(goals).astype(int)\n",
    "\n",
    "print('*** Summary Statistics (Goals per Season) ***')\n",
    "print(f'Seasons: {len(goals)}')\n",
    "print(f'GPS range: [{np.min(goals_array)},{np.max(goals_array)}]')\n",
    "print('GPS mean: {:.2f}'.format(np.mean(goals_array)))\n",
    "print('GPS median: {:.2f}'.format(np.median(goals_array)))\n",
    "print('GPS std: {:.2f}'.format(np.std(goals_array)))"
   ]
  },
  {
   "cell_type": "markdown",
   "id": "5fd175bf-dee4-4477-90e6-8301183859ab",
   "metadata": {},
   "source": [
    "# Visualizations"
   ]
  },
  {
   "cell_type": "code",
   "execution_count": 5,
   "id": "5113f298-6db4-4644-99b0-610e9a55ff6e",
   "metadata": {},
   "outputs": [
    {
     "data": {
      "image/png": "[encoded data removed]",
      "text/plain": [
       "<Figure size 432x288 with 1 Axes>"
      ]
     },
     "metadata": {
      "needs_background": "light"
     },
     "output_type": "display_data"
    }
   ],
   "source": [
    "# CS390Z - Introduction to Data Minining - Fall 2021\n",
    "# Instructor: Thyago Mota\n",
    "# Author: Antonio Lopez\n",
    "# Description: Histogram\n",
    "\n",
    "import matplotlib.pyplot as plt \n",
    "import json\n",
    "\n",
    "# definitions/parameters\n",
    "DATA_FOLDER = './data/'\n",
    "DATASET_NAME = 'goal_count.json'\n",
    "\n",
    "with open(DATA_FOLDER + DATASET_NAME, 'rt') as json_file:\n",
    "  data = json.load(json_file)\n",
    "\n",
    "goals = []\n",
    "for elements in data:\n",
    "  goals.append(int(elements['Goals']))\n",
    "\n",
    "bins = list(range(15, 65, 4))\n",
    "counts, bins, _ = plt.hist(\n",
    "    goals, \n",
    "    bins=bins, \n",
    "    rwidth=.5\n",
    ")\n",
    "xticks = [2 + x for x in bins]\n",
    "axes = plt.gca() # get a reference to the plot's axes\n",
    "axes.set_xticks(xticks)\n",
    "plt.xlabel('Goals Per Season')\n",
    "plt.ylabel('Count')\n",
    "plt.title('Goals Per Season by Top Scorer Since 1888')\n",
    "plt.show()"
   ]
  },
  {
   "cell_type": "code",
   "execution_count": 6,
   "id": "2079d268-384c-4e10-b76e-62e953eccac2",
   "metadata": {},
   "outputs": [
    {
     "name": "stdout",
     "output_type": "stream",
     "text": [
      "*** Outliers ***\n",
      "{'Season': '1930/1931', 'Player': 'Tom Waring', 'Team': 'Aston Villa', 'Goals': '49'}\n",
      "{'Season': '1927/1928', 'Player': 'Dixie Dean', 'Team': 'Everton FC', 'Goals': '60'}\n"
     ]
    },
    {
     "data": {
      "image/png": "[encoded data removed]",
      "text/plain": [
       "<Figure size 432x288 with 1 Axes>"
      ]
     },
     "metadata": {
      "needs_background": "light"
     },
     "output_type": "display_data"
    }
   ],
   "source": [
    "# CS390Z - Introduction to Data Minining - Fall 2021\n",
    "# Instructor: Thyago Mota\n",
    "# Author: Antonio Lopez\n",
    "# Description: Boxplot\n",
    "\n",
    "import json\n",
    "import matplotlib.pyplot as plt \n",
    "\n",
    "# definitions/parameters\n",
    "DATA_FOLDER = './data/'\n",
    "DATASET_NAME = 'goal_count.json'\n",
    "\n",
    "with open(DATA_FOLDER + DATASET_NAME, 'rt') as json_file:\n",
    "  data = json.load(json_file)\n",
    "\n",
    "goals = []\n",
    "for elements in data:\n",
    "  goals.append(int(elements['Goals']))\n",
    "\n",
    "bp = plt.boxplot(\n",
    "    goals, \n",
    "    vert=False\n",
    ") \n",
    "for median in bp['medians']:\n",
    "  xy = median.get_xydata()[0]\n",
    "  xy[1] -= .05\n",
    "  plt.annotate(str(xy[0]), xy=xy)\n",
    "    \n",
    "for cap in bp['caps']:\n",
    "  xy = cap.get_xydata()[0]\n",
    "  xy[1] -= .05\n",
    "  plt.annotate(str(xy[0]), xy=xy)\n",
    "\n",
    "min_whisker = bp['caps'][0].get_xydata()[0][0]\n",
    "max_whisker = bp['caps'][1].get_xydata()[0][0]   \n",
    "\n",
    "outliers = []\n",
    "for elements in data:\n",
    "  if int(elements['Goals']) < min_whisker or int(elements['Goals']) > max_whisker:\n",
    "    outliers.append(elements)\n",
    "print('*** Outliers ***')\n",
    "for outlier in outliers:\n",
    "  print(outlier)\n",
    "\n",
    "axes = plt.gca()\n",
    "axes.spines['right'].set_visible(False)\n",
    "axes.spines['top'].set_visible(False)\n",
    "axes.set_yticklabels([''])\n",
    "plt.ylabel('Goals Per Season by Top Scorer Since 1888')\n",
    "\n",
    "plt.show()"
   ]
  },
  {
   "cell_type": "code",
   "execution_count": null,
   "id": "5c74f0e6-6ba2-4866-981e-144db0f46aa4",
   "metadata": {},
   "outputs": [],
   "source": []
  }
 ],
 "metadata": {
  "kernelspec": {
   "display_name": "Python 3 (ipykernel)",
   "language": "python",
   "name": "python3"
  },
  "language_info": {
   "codemirror_mode": {
    "name": "ipython",
    "version": 3
   },
   "file_extension": ".py",
   "mimetype": "text/x-python",
   "name": "python",
   "nbconvert_exporter": "python",
   "pygments_lexer": "ipython3",
   "version": "3.8.12"
  }
 },
 "nbformat": 4,
 "nbformat_minor": 5
}
